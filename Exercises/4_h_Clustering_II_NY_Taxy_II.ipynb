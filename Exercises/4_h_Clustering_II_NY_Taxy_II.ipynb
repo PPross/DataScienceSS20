{
 "cells": [
  {
   "cell_type": "markdown",
   "metadata": {},
   "source": [
    "# Exercise: Geographical Cluster Analysis of Taxi Rides\n",
    "Using the NY Taxi data set (see Use Case Block I) and the use case from the lecture..."
   ]
  },
  {
   "cell_type": "code",
   "execution_count": null,
   "metadata": {},
   "outputs": [],
   "source": [
    "import pandas as pd\n",
    "import numpy as np\n",
    "import folium\n"
   ]
  },
  {
   "cell_type": "code",
   "execution_count": null,
   "metadata": {},
   "outputs": [],
   "source": [
    "#check if notebook runs in colab\n",
    "import sys\n",
    "IN_COLAB = 'google.colab' in sys.modules\n",
    "print('running in Colab:',IN_COLAB)\n",
    "path='..'\n",
    "if IN_COLAB:\n",
    "  #in colab, we need to clone the data from the repo\n",
    "  !git clone https://github.com/keuperj/DataScienceSS20.git\n",
    "  path='DataScienceSS20'"
   ]
  },
  {
   "cell_type": "code",
   "execution_count": null,
   "metadata": {},
   "outputs": [],
   "source": [
    "# we load the data we have saved after wrangling and pre-processing in block I\n",
    "train=pd.read_csv(path+'/DATA/train_cleaned.csv')"
   ]
  },
  {
   "cell_type": "code",
   "execution_count": null,
   "metadata": {},
   "outputs": [],
   "source": [
    "#select only the culumns with the ride coordinates\n",
    "coordinates = train[ ['pickup_latitude','pickup_longitude','dropoff_latitude' , 'dropoff_longitude' ] ]\n",
    "coordinates.head()"
   ]
  },
  {
   "cell_type": "markdown",
   "metadata": {},
   "source": [
    "## Clustering approach from the lecture\n",
    "we will be using simple K-Means:\n",
    "https://scikit-learn.org/stable/modules/generated/sklearn.cluster.KMeans.html"
   ]
  },
  {
   "cell_type": "code",
   "execution_count": null,
   "metadata": {},
   "outputs": [],
   "source": [
    "from sklearn.cluster import KMeans"
   ]
  },
  {
   "cell_type": "code",
   "execution_count": null,
   "metadata": {},
   "outputs": [],
   "source": [
    "#define number of clusters and create instance\n",
    "clusters=100\n",
    "myKMeans=KMeans(n_clusters=clusters, n_jobs=-1)#parallelize to all cores"
   ]
  },
  {
   "cell_type": "code",
   "execution_count": null,
   "metadata": {},
   "outputs": [],
   "source": [
    "#train model\n",
    "myKMeans.fit(coordinates.to_numpy()[:100000,:])#use only subset of the data to make it faster"
   ]
  },
  {
   "cell_type": "code",
   "execution_count": null,
   "metadata": {},
   "outputs": [],
   "source": [
    "#get cluster centers\n",
    "centers=myKMeans.cluster_centers_\n",
    "\n",
    "labels=myKMeans.labels_\n",
    "print(labels)"
   ]
  },
  {
   "cell_type": "code",
   "execution_count": null,
   "metadata": {},
   "outputs": [],
   "source": [
    "#draw map: green: start, red: end\n",
    "cluster_map = folium.Map(location = [40.730610,-73.935242],zoom_start = 12,)\n",
    "for i in range(clusters):\n",
    "    folium.CircleMarker([centers[i,0], centers[i,1]], radius=3,                \n",
    "                        color=\"green\", \n",
    "                        fill_opacity=0.9\n",
    "                       ).add_to(cluster_map)\n",
    "    folium.CircleMarker([centers[i,2], centers[i,3]], radius=3,                \n",
    "                        color=\"red\", \n",
    "                        fill_opacity=0.9\n",
    "                       ).add_to(cluster_map)\n",
    "    folium.PolyLine([ [centers[i,0],centers[i,1]] , [centers[i,2],centers[i,3]]  ], color=\"black\", weight=2.5, opacity=1).add_to(cluster_map)"
   ]
  },
  {
   "cell_type": "code",
   "execution_count": null,
   "metadata": {},
   "outputs": [],
   "source": [
    "cluster_map"
   ]
  },
  {
   "cell_type": "markdown",
   "metadata": {},
   "source": [
    "## Exercise 1\n",
    "Write a function ```show_cluster(cluster_number,...)``` that draws the cluster centers and all start and end points of a given cluster in the map.\n",
    "* use the ```predict()``` method to map all data in ```train_data``` to a cluster center\n",
    "* use ```folium.CircleMarker``` to draw all members of a given cluster\n"
   ]
  },
  {
   "cell_type": "code",
   "execution_count": null,
   "metadata": {},
   "outputs": [],
   "source": [
    "sub_data=coordinates.to_numpy()[:100000,:] #erzeugt sub_data in array form\n",
    "Means=KMeans(n_clusters=100, n_jobs=-1)    #erzeugt ein KMeans Model\n",
    "Means.fit(sub_data)                        #trainiert das Model mit subdaten\n",
    "predy=Means.predict(sub_data)              #erzeugt die Zuordnung der Daten zu den Clustern"
   ]
  },
  {
   "cell_type": "code",
   "execution_count": null,
   "metadata": {},
   "outputs": [],
   "source": [
    "print(predy)\n",
    "#print(np.shape(predy))\n",
    "#np.shape(sub_data)\n",
    "sub_data_frame=coordinates[:100000] #von dem data frame nur die ersten 100000\n",
    "#np.shape(sub_data_frame)\n",
    "sub_data_frame.head()\n",
    "#print(sub_data_frame)\n",
    "\n",
    "#bis hierher aus der Funktion"
   ]
  },
  {
   "cell_type": "code",
   "execution_count": null,
   "metadata": {},
   "outputs": [],
   "source": [
    "sub_data_frame['cluster_num']=predy #cluster number an daten hängen\n",
    "sub_data_frame.head()\n",
    "\n",
    "clust_number=50\n",
    "test=sub_data_frame[sub_data_frame['cluster_num']==clust_number] #ausgeben der gewollten Koordinaten eines Clusters\n",
    "\n",
    "print(np.shape(test)[0])\n",
    "test=test.to_numpy()\n",
    "test[0]"
   ]
  },
  {
   "cell_type": "code",
   "execution_count": null,
   "metadata": {},
   "outputs": [],
   "source": [
    "laufvar = np.shape(test)[0]\n",
    "\n",
    "for j in range(laufvar):\n",
    "    folium.CircleMarker([test[j,0], test[j,1]], radius=1,color=\"blue\",fill_opacity=0.9).add_to(cluster_map)\n",
    "        "
   ]
  },
  {
   "cell_type": "code",
   "execution_count": null,
   "metadata": {},
   "outputs": [],
   "source": [
    "cluster_map"
   ]
  },
  {
   "cell_type": "code",
   "execution_count": null,
   "metadata": {},
   "outputs": [],
   "source": [
    "#cluster_number = nummer für die Auswahl des Cluster Center\n",
    "#\n",
    "\n",
    "def show_cluster(cluster_number, cluster_anz, train_data, myMAP):\n",
    "    \n",
    "    sub_data=train_data.to_numpy()[:100000,:] #erzeugt sub_data in array form\n",
    "    Means=KMeans(n_clusters=cluster_anz, n_jobs=-1)    #erzeugt ein KMeans Model\n",
    "    Means.fit(sub_data)                        #trainiert das Model mit subdaten\n",
    "    predy=Means.predict(sub_data)              #erzeugt die Zuordnung der Daten zu den Clustern\n",
    "   \n",
    "    sub_data_frame=train_data[:100000]\n",
    "    sub_data_frame['cluster_num']=predy #cluster number an daten hängen\n",
    "\n",
    "    data_cluster_num=sub_data_frame[sub_data_frame['cluster_num']==clust_number] #ausgeben der gewollten Koordinaten eines Clusters\n",
    "    data_cluster_num=data_cluster_num.to_numpy()\n",
    "    #get cluster centers\n",
    "    #centers=Means.cluster_centers_\n",
    "\n",
    "    laufvar = np.shape(data_cluster_num)[0]\n",
    "    for j in range(laufvar):\n",
    "        folium.CircleMarker([data_cluster_num[j,0], data_cluster_num[j,1]], radius=1,color=\"black\",fill_opacity=0.9).add_to(myMAP)\n",
    "        \n",
    "    return(myMAP)"
   ]
  },
  {
   "cell_type": "code",
   "execution_count": null,
   "metadata": {},
   "outputs": [],
   "source": [
    "show_cluster(2,100,coordinates,cluster_map)"
   ]
  },
  {
   "cell_type": "code",
   "execution_count": null,
   "metadata": {},
   "outputs": [],
   "source": [
    "print(cluster_map)"
   ]
  },
  {
   "cell_type": "markdown",
   "metadata": {},
   "source": [
    "## Exercise 2\n",
    "Write a function ```cluster_var(cluster_number,...)``` that computes the intra- and extra cluster variance for a given cluster. Apply it to all clusters and compare the results for k=100 and k=10."
   ]
  },
  {
   "cell_type": "code",
   "execution_count": null,
   "metadata": {},
   "outputs": [],
   "source": []
  }
 ],
 "metadata": {
  "kernelspec": {
   "display_name": "Python 3",
   "language": "python",
   "name": "python3"
  },
  "language_info": {
   "codemirror_mode": {
    "name": "ipython",
    "version": 3
   },
   "file_extension": ".py",
   "mimetype": "text/x-python",
   "name": "python",
   "nbconvert_exporter": "python",
   "pygments_lexer": "ipython3",
   "version": "3.7.6"
  }
 },
 "nbformat": 4,
 "nbformat_minor": 4
}
