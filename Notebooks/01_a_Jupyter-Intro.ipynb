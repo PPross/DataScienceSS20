{
 "cells": [
  {
   "cell_type": "markdown",
   "metadata": {
    "colab_type": "text",
    "id": "ibRtHDHct0IF"
   },
   "source": [
    "# Jupyter Lab - Web IDE \n",
    "* By Janis Keuper\n",
    "* Copyright: Creative Commons Attribution 3.0 Unported License. To view a copy of this license, visit http://creativecommons.org/licenses/by/3.0/"
   ]
  },
  {
   "cell_type": "code",
   "execution_count": 1,
   "metadata": {},
   "outputs": [
    {
     "name": "stdout",
     "output_type": "stream",
     "text": [
      "running in Colab: False\n"
     ]
    }
   ],
   "source": [
    "#check if notebook runs in colab\n",
    "import sys\n",
    "IN_COLAB = 'google.colab' in sys.modules\n",
    "print('running in Colab:',IN_COLAB)\n",
    "path='..'\n",
    "if IN_COLAB:\n",
    "  #in colab, we need to clone the data from the repo\n",
    "  !git clone https://github.com/keuperj/DataScienceSS20.git\n",
    "  path='DataScienceSS20'"
   ]
  },
  {
   "cell_type": "code",
   "execution_count": 2,
   "metadata": {},
   "outputs": [
    {
     "name": "stdout",
     "output_type": "stream",
     "text": [
      "hello\n"
     ]
    }
   ],
   "source": [
    "print(\"hello world\")"
   ]
  },
  {
   "cell_type": "markdown",
   "metadata": {
    "colab_type": "text",
    "id": "nWUn8dOvt0JJ"
   },
   "source": [
    "## Live Demo \n",
    "* Files\n",
    "* Notebooks\n",
    "* Terminal\n",
    "* Kernels\n",
    "* Keyboard Shortcuts\n",
    "* Save and Export"
   ]
  },
  {
   "cell_type": "markdown",
   "metadata": {
    "colab_type": "text",
    "id": "-CaNvBj_t0JL"
   },
   "source": [
    "## Cells\n",
    "* Code vs Markup\n",
    "* Execute Cells"
   ]
  },
  {
   "cell_type": "markdown",
   "metadata": {
    "colab_type": "text",
    "id": "X7NFXz1Lt0JN"
   },
   "source": [
    "## Markup Cells"
   ]
  },
  {
   "cell_type": "markdown",
   "metadata": {
    "colab_type": "text",
    "id": "VsWEbEMnt0JP"
   },
   "source": [
    "### Jupyter Markup\n"
   ]
  },
  {
   "cell_type": "markdown",
   "metadata": {
    "colab_type": "text",
    "id": "ScvzQXG-t0JR"
   },
   "source": [
    "#### Headings\n",
    "``` \n",
    "# Heading 1\n",
    "# Heading 2\n",
    "## Heading 2.1\n",
    "## Heading 2.2\n",
    "```\n"
   ]
  },
  {
   "cell_type": "markdown",
   "metadata": {
    "colab_type": "text",
    "id": "Z2AgnrRet0JT"
   },
   "source": [
    "#### Lists\n",
    "* a\n",
    "* bullet point list"
   ]
  },
  {
   "cell_type": "markdown",
   "metadata": {
    "colab_type": "text",
    "id": "mqeRLSBGt0JW"
   },
   "source": [
    "1. numbered\n",
    "2. list\n",
    "3. is possible"
   ]
  },
  {
   "cell_type": "markdown",
   "metadata": {
    "colab_type": "text",
    "id": "-Bu19cJyt0JY"
   },
   "source": [
    "#### Text Formating\n",
    "* *Italic*\n",
    "* **blod**\n",
    "* ***bold and italic***"
   ]
  },
  {
   "cell_type": "markdown",
   "metadata": {
    "colab_type": "text",
    "id": "VbmdIjD4t0Jb"
   },
   "source": [
    "#### Tables\n",
    "| This | is   |\n",
    "|------|------|\n",
    "|   a  | table|"
   ]
  },
  {
   "cell_type": "markdown",
   "metadata": {
    "colab_type": "text",
    "id": "Cevmo-Uzt0Je"
   },
   "source": [
    "#### Latex Formulars \n",
    "You can write formulars in text, like $e^{i\\pi} + 1 = 0$.\n",
    "\n",
    "Or block equations\n",
    "\n",
    "$$e^x=\\sum_{i=0}^\\infty \\frac{1}{i!}x^i$$"
   ]
  },
  {
   "cell_type": "markdown",
   "metadata": {
    "colab_type": "text",
    "id": "HfmvZfrDt0Jh"
   },
   "source": [
    "#### Links\n",
    "Add links, like one to more information on latex [link](https://www.overleaf.com/learn/latex/Free_online_introduction_to_LaTeX_(part_1))"
   ]
  },
  {
   "cell_type": "markdown",
   "metadata": {
    "colab_type": "text",
    "id": "6g2JOwytt0Jk"
   },
   "source": [
    "#### HTML\n",
    "or simply write HTML code:\n",
    "\n",
    "<H3> HTML test</H3>\n",
    "<img src=\"https://github.com/PPross/DataScienceSS20/blob/master/Notebooks/IMG/jupyter_logo.png?raw=1\" width=300>"
   ]
  },
  {
   "cell_type": "markdown",
   "metadata": {
    "colab_type": "text",
    "id": "NqzyO1aPt0Jn"
   },
   "source": [
    "#### Source Code\n",
    "Python:\n",
    "```python\n",
    "print \"Hello World\"\n",
    "```\n",
    "\n",
    "Java Script\n",
    "```javascript\n",
    "console.log(\"Hello World\")\n",
    "```\n"
   ]
  },
  {
   "cell_type": "markdown",
   "metadata": {
    "colab_type": "text",
    "id": "T5nKGzont0Jr"
   },
   "source": [
    "## Code Cells"
   ]
  },
  {
   "cell_type": "code",
   "execution_count": 1,
   "metadata": {
    "colab": {},
    "colab_type": "code",
    "id": "qn34P9OHt0Ju"
   },
   "outputs": [
    {
     "name": "stdout",
     "output_type": "stream",
     "text": [
      "this is python code\n"
     ]
    }
   ],
   "source": [
    "print (\"this is python code\")"
   ]
  },
  {
   "cell_type": "markdown",
   "metadata": {
    "colab_type": "text",
    "id": "lzYuxQG4t0J9"
   },
   "source": [
    "#### Autocompletion "
   ]
  },
  {
   "cell_type": "code",
   "execution_count": 2,
   "metadata": {
    "colab": {},
    "colab_type": "code",
    "id": "k7jFqW-kt0KA"
   },
   "outputs": [],
   "source": [
    "a = \"This is a STRING\""
   ]
  },
  {
   "cell_type": "code",
   "execution_count": null,
   "metadata": {
    "colab": {},
    "colab_type": "code",
    "id": "JawntunUt0KN"
   },
   "outputs": [],
   "source": [
    "# press tab to see the available methods \n",
    "a.l"
   ]
  },
  {
   "cell_type": "markdown",
   "metadata": {
    "colab_type": "text",
    "id": "YXD6mBCWt0KX"
   },
   "source": [
    "#### API Documentation and Help"
   ]
  },
  {
   "cell_type": "code",
   "execution_count": null,
   "metadata": {
    "colab": {},
    "colab_type": "code",
    "id": "1xqByDAXt0KZ"
   },
   "outputs": [],
   "source": [
    "# add '?' in front of call\n"
   ]
  },
  {
   "cell_type": "markdown",
   "metadata": {
    "colab_type": "text",
    "id": "bffe-63pt0Kj"
   },
   "source": [
    "## System Calls\n",
    "Call OS cmd-line tools via the \"!\" opperator:"
   ]
  },
  {
   "cell_type": "code",
   "execution_count": null,
   "metadata": {
    "colab": {},
    "colab_type": "code",
    "id": "wEx7j_nIt0Km"
   },
   "outputs": [],
   "source": [
    "!ls -lha"
   ]
  },
  {
   "cell_type": "markdown",
   "metadata": {
    "colab_type": "text",
    "id": "Zq2FwxSJt0Ky"
   },
   "source": [
    "## Magic-Commands\n",
    "Jupyter has build in, so-called \"magic commands\" (full list [https://ipython.readthedocs.io/en/stable/interactive/magics.html](here))"
   ]
  },
  {
   "cell_type": "code",
   "execution_count": null,
   "metadata": {
    "colab": {},
    "colab_type": "code",
    "id": "Gv143wSHt0Kz"
   },
   "outputs": [],
   "source": [
    "#single runtime \n",
    "%time \n",
    "for i in range(1000):\n",
    "    pass"
   ]
  },
  {
   "cell_type": "code",
   "execution_count": null,
   "metadata": {
    "colab": {},
    "colab_type": "code",
    "id": "dulv079bt0K7"
   },
   "outputs": [],
   "source": [
    "#runtime test\n",
    "%timeit a=34*56"
   ]
  },
  {
   "cell_type": "code",
   "execution_count": null,
   "metadata": {
    "colab": {},
    "colab_type": "code",
    "id": "XICCo_art0LC"
   },
   "outputs": [],
   "source": [
    "# load the autoreload extension\n",
    "%load_ext autoreload\n",
    "# Set extension to reload modules every time before executing code\n",
    "%autoreload 2\n"
   ]
  },
  {
   "cell_type": "code",
   "execution_count": null,
   "metadata": {
    "colab": {},
    "colab_type": "code",
    "id": "S3tRUmHyt0LL"
   },
   "outputs": [],
   "source": [
    "a=5\n",
    "f=\"test\"\n",
    "# Outputs a list of all interactive variables in your environment\n",
    "%who_ls"
   ]
  },
  {
   "cell_type": "code",
   "execution_count": null,
   "metadata": {
    "colab": {},
    "colab_type": "code",
    "id": "alvvPo96t0LR"
   },
   "outputs": [],
   "source": [
    "# Reduces the output to interactive variables of type \"function\"\n",
    "%who_ls function"
   ]
  },
  {
   "cell_type": "code",
   "execution_count": null,
   "metadata": {
    "colab": {},
    "colab_type": "code",
    "id": "8Ymuikxut0La"
   },
   "outputs": [],
   "source": []
  }
 ],
 "metadata": {
  "colab": {
   "name": "01_a_Jupyter-Intro.ipynb",
   "provenance": []
  },
  "kernelspec": {
   "display_name": "Python 3",
   "language": "python",
   "name": "python3"
  },
  "language_info": {
   "codemirror_mode": {
    "name": "ipython",
    "version": 3
   },
   "file_extension": ".py",
   "mimetype": "text/x-python",
   "name": "python",
   "nbconvert_exporter": "python",
   "pygments_lexer": "ipython3",
   "version": "3.7.6"
  }
 },
 "nbformat": 4,
 "nbformat_minor": 4
}
